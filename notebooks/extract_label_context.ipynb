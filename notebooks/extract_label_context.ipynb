{
 "cells": [
  {
   "cell_type": "code",
   "execution_count": 1,
   "metadata": {
    "ExecuteTime": {
     "end_time": "2024-05-04T20:38:54.224099500Z",
     "start_time": "2024-05-04T20:38:13.767991300Z"
    }
   },
   "outputs": [
    {
     "name": "stdout",
     "output_type": "stream",
     "text": [
      "Defaulting to user installation because normal site-packages is not writeable\n",
      "Requirement already satisfied: pandas in c:\\users\\nicolás hernández\\appdata\\local\\packages\\pythonsoftwarefoundation.python.3.12_qbz5n2kfra8p0\\localcache\\local-packages\\python312\\site-packages (2.2.1)\n",
      "Requirement already satisfied: numpy<2,>=1.26.0 in c:\\users\\nicolás hernández\\appdata\\local\\packages\\pythonsoftwarefoundation.python.3.12_qbz5n2kfra8p0\\localcache\\local-packages\\python312\\site-packages (from pandas) (1.26.4)\n",
      "Requirement already satisfied: python-dateutil>=2.8.2 in c:\\users\\nicolás hernández\\appdata\\local\\packages\\pythonsoftwarefoundation.python.3.12_qbz5n2kfra8p0\\localcache\\local-packages\\python312\\site-packages (from pandas) (2.9.0.post0)\n",
      "Requirement already satisfied: pytz>=2020.1 in c:\\users\\nicolás hernández\\appdata\\local\\packages\\pythonsoftwarefoundation.python.3.12_qbz5n2kfra8p0\\localcache\\local-packages\\python312\\site-packages (from pandas) (2024.1)\n",
      "Requirement already satisfied: tzdata>=2022.7 in c:\\users\\nicolás hernández\\appdata\\local\\packages\\pythonsoftwarefoundation.python.3.12_qbz5n2kfra8p0\\localcache\\local-packages\\python312\\site-packages (from pandas) (2024.1)\n",
      "Requirement already satisfied: six>=1.5 in c:\\users\\nicolás hernández\\appdata\\local\\packages\\pythonsoftwarefoundation.python.3.12_qbz5n2kfra8p0\\localcache\\local-packages\\python312\\site-packages (from python-dateutil>=2.8.2->pandas) (1.16.0)\n"
     ]
    }
   ],
   "source": [
    "!pip install pandas\n",
    "\n",
    "import json\n",
    "import pandas as pd"
   ]
  },
  {
   "cell_type": "code",
   "execution_count": 8,
   "metadata": {
    "ExecuteTime": {
     "end_time": "2024-05-04T20:38:54.232111200Z",
     "start_time": "2024-05-04T20:38:54.224099500Z"
    }
   },
   "outputs": [],
   "source": [
    "# Abre el archivo JSON\n",
    "with open('../data/processed/general.json', \"r\", encoding='utf-8') as archivo:\n",
    "    data_generalized = json.load(archivo)"
   ]
  },
  {
   "cell_type": "code",
   "execution_count": 9,
   "metadata": {
    "ExecuteTime": {
     "end_time": "2024-05-04T20:38:54.298043800Z",
     "start_time": "2024-05-04T20:38:54.231113700Z"
    }
   },
   "outputs": [],
   "source": [
    "ctx_i_g = []\n",
    "ctx_d_g= [] \n",
    "labels_g = []"
   ]
  },
  {
   "cell_type": "code",
   "execution_count": 10,
   "metadata": {
    "ExecuteTime": {
     "end_time": "2024-05-04T20:38:54.378060200Z",
     "start_time": "2024-05-04T20:38:54.299159800Z"
    }
   },
   "outputs": [],
   "source": [
    "for i in data_generalized:\n",
    "    text = i['data']['text']\n",
    "    for j in i['annotations'][0]['result']:\n",
    "        start = j['value']['start']\n",
    "        end = j['value']['end']\n",
    "        for m in j['value']['labels']:\n",
    "            if start > 0:\n",
    "                ctx_i_g.append(text[:start].strip().split()[-1])\n",
    "            else:\n",
    "                ctx_i_g.append(\"start\")\n",
    "\n",
    "            if end < len(text):\n",
    "                ctx_d_g.append(text[end:].strip().split()[0])\n",
    "            else:\n",
    "                ctx_d_g.append(\"end\")\n",
    "            labels_g.append(m)\n"
   ]
  },
  {
   "cell_type": "code",
   "execution_count": 11,
   "metadata": {
    "ExecuteTime": {
     "end_time": "2024-05-04T20:38:54.416119300Z",
     "start_time": "2024-05-04T20:38:54.378060200Z"
    }
   },
   "outputs": [
    {
     "data": {
      "text/plain": [
       "(291, 291, 291)"
      ]
     },
     "execution_count": 11,
     "metadata": {},
     "output_type": "execute_result"
    }
   ],
   "source": [
    "len(labels_g), len(ctx_i_g), len(ctx_d_g) "
   ]
  },
  {
   "cell_type": "code",
   "execution_count": 12,
   "metadata": {
    "ExecuteTime": {
     "end_time": "2024-05-04T20:38:54.476094400Z",
     "start_time": "2024-05-04T20:38:54.414126700Z"
    }
   },
   "outputs": [],
   "source": [
    "data_csv_g = {\n",
    "    'ctx_i': ctx_i_g,\n",
    "    'ctx_d': ctx_d_g,\n",
    "    'class': labels_g\n",
    "}\n",
    "df_g = pd.DataFrame(data_csv_g)\n",
    "output_path_g = '../data/processed/'\n",
    "df_g.to_csv(output_path_g + 'ctx_general.csv', index=False)"
   ]
  },
  {
   "cell_type": "code",
   "execution_count": 38,
   "metadata": {
    "ExecuteTime": {
     "end_time": "2024-05-04T20:38:54.539938700Z",
     "start_time": "2024-05-04T20:38:54.477092600Z"
    }
   },
   "outputs": [],
   "source": [
    "# Abre el archivo JSON\n",
    "with open('../data/processed/detallado.json', \"r\", encoding='utf-8') as archivo:\n",
    "    data_detailed = json.load(archivo)"
   ]
  },
  {
   "cell_type": "code",
   "execution_count": 39,
   "metadata": {
    "ExecuteTime": {
     "end_time": "2024-05-04T20:38:54.572717Z",
     "start_time": "2024-05-04T20:38:54.540937Z"
    }
   },
   "outputs": [],
   "source": [
    "ctx_i_d = []\n",
    "ctx_d_d= [] \n",
    "labels_d = []"
   ]
  },
  {
   "cell_type": "code",
   "execution_count": 40,
   "metadata": {
    "ExecuteTime": {
     "end_time": "2024-05-04T20:38:54.607854800Z",
     "start_time": "2024-05-04T20:38:54.573712700Z"
    }
   },
   "outputs": [],
   "source": [
    "import re\n",
    "\n",
    "# Expresión regular para dividir el texto en tokens considerando signos de puntuación\n",
    "token_pattern = re.compile(r\"[\\w']+|[.,!?;]\")\n",
    "\n",
    "for i in data_detailed:\n",
    "    text = i['data']['text']\n",
    "    for j in i['annotations'][0]['result']:\n",
    "        start = j['value']['start']\n",
    "        end = j['value']['end']\n",
    "        for m in j['value']['labels']:\n",
    "            # Antes de agregar el token inicial, verificamos si hay tokens antes del índice de inicio\n",
    "            tokens_before_start = token_pattern.findall(text[:start])\n",
    "            if tokens_before_start:\n",
    "                ctx_i_d.append(tokens_before_start[-1])\n",
    "            else:\n",
    "                ctx_i_d.append(\"start\")\n",
    "\n",
    "            # Antes de agregar el token final, verificamos si hay tokens después del índice de fin\n",
    "            tokens_after_end = token_pattern.findall(text[end:])\n",
    "            if tokens_after_end:\n",
    "                ctx_d_d.append(tokens_after_end[0])\n",
    "            else:\n",
    "                ctx_d_d.append(\"end\")\n",
    "\n",
    "            labels_d.append(m)"
   ]
  },
  {
   "cell_type": "code",
   "execution_count": 41,
   "metadata": {
    "ExecuteTime": {
     "end_time": "2024-05-04T20:38:54.643901200Z",
     "start_time": "2024-05-04T20:38:54.608854800Z"
    }
   },
   "outputs": [
    {
     "data": {
      "text/plain": [
       "(425, 425, 425)"
      ]
     },
     "execution_count": 41,
     "metadata": {},
     "output_type": "execute_result"
    }
   ],
   "source": [
    "len(labels_d), len(ctx_i_d), len(ctx_d_d) "
   ]
  },
  {
   "cell_type": "code",
   "execution_count": 42,
   "metadata": {
    "ExecuteTime": {
     "end_time": "2024-05-04T20:38:54.678743Z",
     "start_time": "2024-05-04T20:38:54.642904700Z"
    }
   },
   "outputs": [],
   "source": [
    "data_csv_d = {\n",
    "    'ctx_i': ctx_i_d,\n",
    "    'ctx_d': ctx_d_d,\n",
    "    'class': labels_d\n",
    "}\n",
    "df_d = pd.DataFrame(data_csv_d)\n",
    "output_path_d = '../data/processed/'\n",
    "df_d.to_csv(output_path_d + 'ctx_detallado.csv', index=False)"
   ]
  },
  {
   "cell_type": "code",
   "execution_count": null,
   "metadata": {},
   "outputs": [],
   "source": []
  }
 ],
 "metadata": {
  "kernelspec": {
   "display_name": "Python 3",
   "language": "python",
   "name": "python3"
  },
  "language_info": {
   "codemirror_mode": {
    "name": "ipython",
    "version": 3
   },
   "file_extension": ".py",
   "mimetype": "text/x-python",
   "name": "python",
   "nbconvert_exporter": "python",
   "pygments_lexer": "ipython3",
   "version": "3.12.3"
  }
 },
 "nbformat": 4,
 "nbformat_minor": 2
}
