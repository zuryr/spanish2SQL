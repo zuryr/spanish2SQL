{
 "cells": [
  {
   "cell_type": "code",
   "execution_count": 32,
   "metadata": {},
   "outputs": [],
   "source": [
    "import json\n",
    "import pandas as pd"
   ]
  },
  {
   "cell_type": "code",
   "execution_count": 1,
   "metadata": {},
   "outputs": [],
   "source": [
    "path = \"../data/processed/detallado.json\""
   ]
  },
  {
   "cell_type": "code",
   "execution_count": 4,
   "metadata": {},
   "outputs": [],
   "source": [
    "# Abre el archivo JSON en modo lectura\n",
    "with open(path, \"r\", encoding='utf-8') as archivo:\n",
    "    # Carga el contenido del archivo JSON en un diccionario\n",
    "    datos = json.load(archivo)"
   ]
  },
  {
   "cell_type": "code",
   "execution_count": 45,
   "metadata": {},
   "outputs": [],
   "source": [
    "text_labels = []\n",
    "texts = []"
   ]
  },
  {
   "cell_type": "code",
   "execution_count": 46,
   "metadata": {},
   "outputs": [],
   "source": [
    "for labels in datos:\n",
    "    annotations = labels['annotations']\n",
    "    for annotation in annotations:\n",
    "        results = annotation['result']\n",
    "        for result in results:\n",
    "            label = result['value']['labels'][0]\n",
    "            text = result['value']['text']\n",
    "\n",
    "            text_labels.append(label)\n",
    "            texts.append(text)\n"
   ]
  },
  {
   "cell_type": "code",
   "execution_count": 48,
   "metadata": {},
   "outputs": [
    {
     "name": "stdout",
     "output_type": "stream",
     "text": [
      "             Label             Text\n",
      "0         ATRIBUTO  año de creación\n",
      "1         ATRIBUTO          nombre \n",
      "2         ATRIBUTO      presupuesto\n",
      "3         ATRIBUTO          llaman \n",
      "4               !=            fuera\n",
      "..             ...              ...\n",
      "420          VALOR      informática\n",
      "421       ATRIBUTO          nombres\n",
      "422          VALOR    Comp. Ciencia\n",
      "423              =              del\n",
      "424  ATR_CONDICION     departamento\n",
      "\n",
      "[425 rows x 2 columns]\n"
     ]
    }
   ],
   "source": [
    "# Crear un DataFrame de pandas con las listas de label y text\n",
    "df = pd.DataFrame({'Label': text_labels, 'Text': texts})\n",
    "\n",
    "output_path = '../data/processed/'\n",
    "\n",
    "# Guardar el DataFrame como un archivo CSV\n",
    "df.to_csv(output_path + 'detailed_labels.csv', index=False)\n",
    "\n",
    "# Opcional: imprimir el DataFrame\n",
    "print(df)"
   ]
  },
  {
   "cell_type": "code",
   "execution_count": null,
   "metadata": {},
   "outputs": [],
   "source": []
  }
 ],
 "metadata": {
  "kernelspec": {
   "display_name": "Python 3",
   "language": "python",
   "name": "python3"
  },
  "language_info": {
   "codemirror_mode": {
    "name": "ipython",
    "version": 3
   },
   "file_extension": ".py",
   "mimetype": "text/x-python",
   "name": "python",
   "nbconvert_exporter": "python",
   "pygments_lexer": "ipython3",
   "version": "3.12.3"
  }
 },
 "nbformat": 4,
 "nbformat_minor": 2
}
