{
 "cells": [
  {
   "cell_type": "code",
   "execution_count": 1,
   "metadata": {},
   "outputs": [],
   "source": [
    "import json\n",
    "import pandas as pd"
   ]
  },
  {
   "cell_type": "code",
   "execution_count": 3,
   "metadata": {},
   "outputs": [],
   "source": [
    "# Abre el archivo JSON\n",
    "with open('../data/processed/general.json', \"r\", encoding='utf-8') as archivo:\n",
    "    data_generalized = json.load(archivo)"
   ]
  },
  {
   "cell_type": "code",
   "execution_count": 4,
   "metadata": {},
   "outputs": [],
   "source": [
    "ctx_i_g = []\n",
    "ctx_d_g= [] \n",
    "labels_g = []"
   ]
  },
  {
   "cell_type": "code",
   "execution_count": 5,
   "metadata": {},
   "outputs": [],
   "source": [
    "for i in data_generalized:\n",
    "    text = i['data']['text']\n",
    "    for j in i['annotations'][0]['result']:\n",
    "        start = j['value']['start']\n",
    "        end = j['value']['end']\n",
    "        for m in j['value']['labels']:\n",
    "            if start > 0:\n",
    "                ctx_i_g.append(text[:start].strip().split()[-1])\n",
    "            else:\n",
    "                ctx_i_g.append(\"start\")\n",
    "\n",
    "            if end < len(text):\n",
    "                ctx_d_g.append(text[end:].strip().split()[0])\n",
    "            else:\n",
    "                ctx_d_g.append(\"end\")\n",
    "            labels_g.append(m)\n"
   ]
  },
  {
   "cell_type": "code",
   "execution_count": 6,
   "metadata": {},
   "outputs": [
    {
     "data": {
      "text/plain": [
       "(291, 291, 291)"
      ]
     },
     "execution_count": 6,
     "metadata": {},
     "output_type": "execute_result"
    }
   ],
   "source": [
    "len(labels_g), len(ctx_i_g), len(ctx_d_g) "
   ]
  },
  {
   "cell_type": "code",
   "execution_count": 7,
   "metadata": {},
   "outputs": [],
   "source": [
    "data_csv_g = {\n",
    "    'ctx_i': ctx_i_g,\n",
    "    'ctx_d': ctx_d_g,\n",
    "    'class': labels_g\n",
    "}\n",
    "df_g = pd.DataFrame(data_csv_g)\n",
    "output_path_g = '../data/processed/'\n",
    "df_g.to_csv(output_path_g + 'ctx_general.csv', index=False)"
   ]
  },
  {
   "cell_type": "code",
   "execution_count": 9,
   "metadata": {},
   "outputs": [],
   "source": [
    "# Abre el archivo JSON\n",
    "with open('../data/processed/detallado.json', \"r\", encoding='utf-8') as archivo:\n",
    "    data_detailed = json.load(archivo)"
   ]
  },
  {
   "cell_type": "code",
   "execution_count": 10,
   "metadata": {},
   "outputs": [],
   "source": [
    "ctx_i_d = []\n",
    "ctx_d_d= [] \n",
    "labels_d = []"
   ]
  },
  {
   "cell_type": "code",
   "execution_count": 11,
   "metadata": {},
   "outputs": [],
   "source": [
    "for i in data_detailed:\n",
    "    text = i['data']['text']\n",
    "    for j in i['annotations'][0]['result']:\n",
    "        start = j['value']['start']\n",
    "        end = j['value']['end']\n",
    "        for m in j['value']['labels']:\n",
    "            if start > 0:\n",
    "                ctx_i_d.append(text[:start].strip().split()[-1])\n",
    "            else:\n",
    "                ctx_i_d.append(\"start\")\n",
    "\n",
    "            if end < len(text):\n",
    "                ctx_d_d.append(text[end:].strip().split()[0])\n",
    "            else:\n",
    "                ctx_d_d.append(\"end\")\n",
    "            labels_d.append(m)"
   ]
  },
  {
   "cell_type": "code",
   "execution_count": 12,
   "metadata": {},
   "outputs": [
    {
     "data": {
      "text/plain": [
       "(425, 425, 425)"
      ]
     },
     "execution_count": 12,
     "metadata": {},
     "output_type": "execute_result"
    }
   ],
   "source": [
    "len(labels_d), len(ctx_i_d), len(ctx_d_d) "
   ]
  },
  {
   "cell_type": "code",
   "execution_count": 13,
   "metadata": {},
   "outputs": [],
   "source": [
    "data_csv_d = {\n",
    "    'ctx_i': ctx_i_d,\n",
    "    'ctx_d': ctx_d_d,\n",
    "    'class': labels_d\n",
    "}\n",
    "df_d = pd.DataFrame(data_csv_d)\n",
    "output_path_d = '../data/processed/'\n",
    "df_d.to_csv(output_path_d + 'ctx_detallado.csv', index=False)"
   ]
  },
  {
   "cell_type": "code",
   "execution_count": null,
   "metadata": {},
   "outputs": [],
   "source": []
  }
 ],
 "metadata": {
  "kernelspec": {
   "display_name": "Python 3",
   "language": "python",
   "name": "python3"
  },
  "language_info": {
   "codemirror_mode": {
    "name": "ipython",
    "version": 3
   },
   "file_extension": ".py",
   "mimetype": "text/x-python",
   "name": "python",
   "nbconvert_exporter": "python",
   "pygments_lexer": "ipython3",
   "version": "3.12.3"
  }
 },
 "nbformat": 4,
 "nbformat_minor": 2
}
