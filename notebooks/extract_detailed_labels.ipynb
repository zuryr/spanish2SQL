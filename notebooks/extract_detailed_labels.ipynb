{
 "cells": [
  {
   "cell_type": "code",
   "execution_count": 1,
   "metadata": {
    "ExecuteTime": {
     "end_time": "2024-05-05T01:33:53.520722200Z",
     "start_time": "2024-05-05T01:33:49.464583600Z"
    }
   },
   "outputs": [
    {
     "name": "stdout",
     "output_type": "stream",
     "text": [
      "Requirement already satisfied: pandas in c:\\users\\ulimi\\onedrive\\documentos\\tt\\spanish2sql\\venv\\lib\\site-packages (2.2.2)\n",
      "Requirement already satisfied: numpy>=1.23.2 in c:\\users\\ulimi\\onedrive\\documentos\\tt\\spanish2sql\\venv\\lib\\site-packages (from pandas) (1.26.4)\n",
      "Requirement already satisfied: python-dateutil>=2.8.2 in c:\\users\\ulimi\\onedrive\\documentos\\tt\\spanish2sql\\venv\\lib\\site-packages (from pandas) (2.9.0.post0)\n",
      "Requirement already satisfied: pytz>=2020.1 in c:\\users\\ulimi\\onedrive\\documentos\\tt\\spanish2sql\\venv\\lib\\site-packages (from pandas) (2024.1)\n",
      "Requirement already satisfied: tzdata>=2022.7 in c:\\users\\ulimi\\onedrive\\documentos\\tt\\spanish2sql\\venv\\lib\\site-packages (from pandas) (2024.1)\n",
      "Requirement already satisfied: six>=1.5 in c:\\users\\ulimi\\onedrive\\documentos\\tt\\spanish2sql\\venv\\lib\\site-packages (from python-dateutil>=2.8.2->pandas) (1.16.0)\n"
     ]
    },
    {
     "name": "stderr",
     "output_type": "stream",
     "text": [
      "\n",
      "[notice] A new release of pip is available: 23.2.1 -> 24.0\n",
      "[notice] To update, run: python.exe -m pip install --upgrade pip\n"
     ]
    }
   ],
   "source": [
    "!pip install pandas\n",
    "\n",
    "import json\n",
    "import pandas as pd"
   ]
  },
  {
   "cell_type": "code",
   "execution_count": 2,
   "metadata": {
    "ExecuteTime": {
     "end_time": "2024-05-05T01:33:53.525809100Z",
     "start_time": "2024-05-05T01:33:53.522796Z"
    }
   },
   "outputs": [],
   "source": [
    "path = \"../data/processed/detallado.json\""
   ]
  },
  {
   "cell_type": "code",
   "execution_count": 3,
   "metadata": {
    "ExecuteTime": {
     "end_time": "2024-05-05T01:33:53.607172800Z",
     "start_time": "2024-05-05T01:33:53.524808900Z"
    }
   },
   "outputs": [],
   "source": [
    "# Abre el archivo JSON en modo lectura\n",
    "with open(path, \"r\", encoding='utf-8') as archivo:\n",
    "    # Carga el contenido del archivo JSON en un diccionario\n",
    "    datos = json.load(archivo)"
   ]
  },
  {
   "cell_type": "code",
   "execution_count": 4,
   "metadata": {
    "ExecuteTime": {
     "end_time": "2024-05-05T01:33:53.639965Z",
     "start_time": "2024-05-05T01:33:53.607172800Z"
    }
   },
   "outputs": [],
   "source": [
    "text_labels = []\n",
    "texts = []"
   ]
  },
  {
   "cell_type": "code",
   "execution_count": 5,
   "metadata": {
    "ExecuteTime": {
     "end_time": "2024-05-05T01:33:53.673315900Z",
     "start_time": "2024-05-05T01:33:53.639965Z"
    }
   },
   "outputs": [],
   "source": [
    "for labels in datos:\n",
    "    annotations = labels['annotations']\n",
    "    for annotation in annotations:\n",
    "        results = annotation['result']\n",
    "        for result in results:\n",
    "            label = result['value']['labels'][0]\n",
    "            text = result['value']['text']\n",
    "            \n",
    "            if label != 'ATRIBUTO' and label != 'VALOR' and label != 'ATR_CONDICION':\n",
    "                text_labels.append(label)\n",
    "                texts.append(text)\n"
   ]
  },
  {
   "cell_type": "code",
   "execution_count": 6,
   "metadata": {
    "ExecuteTime": {
     "end_time": "2024-05-05T01:33:53.714796600Z",
     "start_time": "2024-05-05T01:33:53.674313Z"
    }
   },
   "outputs": [
    {
     "name": "stdout",
     "output_type": "stream",
     "text": [
      "   Label       Text\n",
      "0     !=      fuera\n",
      "1     !=      no es\n",
      "2     !=      no es\n",
      "3      >    mayor a\n",
      "4      <    menor a\n",
      "..   ...        ...\n",
      "80    !=  no sufren\n",
      "81    OR          o\n",
      "82     =      en el\n",
      "83     =         de\n",
      "84     =        del\n",
      "\n",
      "[85 rows x 2 columns]\n"
     ]
    }
   ],
   "source": [
    "# Crear un DataFrame de pandas con las listas de label y text\n",
    "df = pd.DataFrame({'Label': text_labels, 'Text': texts})\n",
    "\n",
    "output_path = '../data/processed/'\n",
    "\n",
    "# Guardar el DataFrame como un archivo CSV\n",
    "df.to_csv(output_path + 'detailed_labels.csv', index=False)\n",
    "\n",
    "# Opcional: imprimir el DataFrame\n",
    "print(df)"
   ]
  },
  {
   "cell_type": "code",
   "execution_count": 6,
   "metadata": {
    "ExecuteTime": {
     "end_time": "2024-05-05T01:33:53.717793700Z",
     "start_time": "2024-05-05T01:33:53.714293200Z"
    }
   },
   "outputs": [],
   "source": []
  }
 ],
 "metadata": {
  "kernelspec": {
   "display_name": "Python 3",
   "language": "python",
   "name": "python3"
  },
  "language_info": {
   "codemirror_mode": {
    "name": "ipython",
    "version": 3
   },
   "file_extension": ".py",
   "mimetype": "text/x-python",
   "name": "python",
   "nbconvert_exporter": "python",
   "pygments_lexer": "ipython3",
   "version": "3.12.3"
  }
 },
 "nbformat": 4,
 "nbformat_minor": 2
}
