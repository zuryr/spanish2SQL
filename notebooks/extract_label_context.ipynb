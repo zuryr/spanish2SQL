{
 "cells": [
  {
   "cell_type": "code",
   "execution_count": 7,
   "metadata": {
    "ExecuteTime": {
     "end_time": "2024-05-04T20:38:54.224099500Z",
     "start_time": "2024-05-04T20:38:13.767991300Z"
    }
   },
   "outputs": [
    {
     "name": "stderr",
     "output_type": "stream",
     "text": [
      "\n",
      "[notice] A new release of pip is available: 23.2.1 -> 24.0\n",
      "[notice] To update, run: python.exe -m pip install --upgrade pip\n"
     ]
    },
    {
     "name": "stdout",
     "output_type": "stream",
     "text": [
      "Collecting pandas\n",
      "  Obtaining dependency information for pandas from https://files.pythonhosted.org/packages/ab/63/966db1321a0ad55df1d1fe51505d2cdae191b84c907974873817b0a6e849/pandas-2.2.2-cp311-cp311-win_amd64.whl.metadata\n",
      "  Downloading pandas-2.2.2-cp311-cp311-win_amd64.whl.metadata (19 kB)\n",
      "Requirement already satisfied: numpy>=1.23.2 in c:\\users\\ulimi\\onedrive\\documentos\\tt\\spanish2sql\\venv\\lib\\site-packages (from pandas) (1.26.4)\n",
      "Requirement already satisfied: python-dateutil>=2.8.2 in c:\\users\\ulimi\\onedrive\\documentos\\tt\\spanish2sql\\venv\\lib\\site-packages (from pandas) (2.9.0.post0)\n",
      "Collecting pytz>=2020.1 (from pandas)\n",
      "  Obtaining dependency information for pytz>=2020.1 from https://files.pythonhosted.org/packages/9c/3d/a121f284241f08268b21359bd425f7d4825cffc5ac5cd0e1b3d82ffd2b10/pytz-2024.1-py2.py3-none-any.whl.metadata\n",
      "  Downloading pytz-2024.1-py2.py3-none-any.whl.metadata (22 kB)\n",
      "Collecting tzdata>=2022.7 (from pandas)\n",
      "  Obtaining dependency information for tzdata>=2022.7 from https://files.pythonhosted.org/packages/65/58/f9c9e6be752e9fcb8b6a0ee9fb87e6e7a1f6bcab2cdc73f02bb7ba91ada0/tzdata-2024.1-py2.py3-none-any.whl.metadata\n",
      "  Downloading tzdata-2024.1-py2.py3-none-any.whl.metadata (1.4 kB)\n",
      "Requirement already satisfied: six>=1.5 in c:\\users\\ulimi\\onedrive\\documentos\\tt\\spanish2sql\\venv\\lib\\site-packages (from python-dateutil>=2.8.2->pandas) (1.16.0)\n",
      "Downloading pandas-2.2.2-cp311-cp311-win_amd64.whl (11.6 MB)\n",
      "   ---------------------------------------- 0.0/11.6 MB ? eta -:--:--\n",
      "   ---------------------------------------- 0.0/11.6 MB ? eta -:--:--\n",
      "   ---------------------------------------- 0.1/11.6 MB 1.1 MB/s eta 0:00:11\n",
      "    --------------------------------------- 0.3/11.6 MB 2.0 MB/s eta 0:00:06\n",
      "   -- ------------------------------------- 0.7/11.6 MB 3.8 MB/s eta 0:00:03\n",
      "   ---- ----------------------------------- 1.2/11.6 MB 5.4 MB/s eta 0:00:02\n",
      "   ------- -------------------------------- 2.1/11.6 MB 8.0 MB/s eta 0:00:02\n",
      "   ---------- ----------------------------- 2.9/11.6 MB 9.3 MB/s eta 0:00:01\n",
      "   ----------- ---------------------------- 3.5/11.6 MB 10.5 MB/s eta 0:00:01\n",
      "   ------------- -------------------------- 4.0/11.6 MB 9.9 MB/s eta 0:00:01\n",
      "   ---------------- ----------------------- 4.7/11.6 MB 10.7 MB/s eta 0:00:01\n",
      "   ----------------- ---------------------- 5.2/11.6 MB 10.3 MB/s eta 0:00:01\n",
      "   ------------------- -------------------- 5.8/11.6 MB 10.6 MB/s eta 0:00:01\n",
      "   ------------------- -------------------- 5.8/11.6 MB 10.6 MB/s eta 0:00:01\n",
      "   ---------------------- ----------------- 6.5/11.6 MB 10.1 MB/s eta 0:00:01\n",
      "   ------------------------ --------------- 7.1/11.6 MB 10.4 MB/s eta 0:00:01\n",
      "   ----------------------------- ---------- 8.5/11.6 MB 10.8 MB/s eta 0:00:01\n",
      "   ------------------------------ --------- 9.0/11.6 MB 11.0 MB/s eta 0:00:01\n",
      "   ---------------------------------- ----- 10.0/11.6 MB 11.5 MB/s eta 0:00:01\n",
      "   -------------------------------------- - 11.3/11.6 MB 13.1 MB/s eta 0:00:01\n",
      "   ---------------------------------------  11.6/11.6 MB 13.1 MB/s eta 0:00:01\n",
      "   ---------------------------------------  11.6/11.6 MB 13.1 MB/s eta 0:00:01\n",
      "   ---------------------------------------  11.6/11.6 MB 13.1 MB/s eta 0:00:01\n",
      "   ---------------------------------------- 11.6/11.6 MB 10.5 MB/s eta 0:00:00\n",
      "Downloading pytz-2024.1-py2.py3-none-any.whl (505 kB)\n",
      "   ---------------------------------------- 0.0/505.5 kB ? eta -:--:--\n",
      "   ---------------------------------------  501.8/505.5 kB ? eta -:--:--\n",
      "   ---------------------------------------- 505.5/505.5 kB 3.2 MB/s eta 0:00:00\n",
      "Downloading tzdata-2024.1-py2.py3-none-any.whl (345 kB)\n",
      "   ---------------------------------------- 0.0/345.4 kB ? eta -:--:--\n",
      "   ---------------------------------------  337.9/345.4 kB ? eta -:--:--\n",
      "   ---------------------------------------- 345.4/345.4 kB 7.1 MB/s eta 0:00:00\n",
      "Installing collected packages: pytz, tzdata, pandas\n",
      "Successfully installed pandas-2.2.2 pytz-2024.1 tzdata-2024.1\n"
     ]
    }
   ],
   "source": [
    "!pip install pandas\n",
    "\n",
    "import json\n",
    "import pandas as pd"
   ]
  },
  {
   "cell_type": "code",
   "execution_count": 8,
   "metadata": {
    "ExecuteTime": {
     "end_time": "2024-05-04T20:38:54.232111200Z",
     "start_time": "2024-05-04T20:38:54.224099500Z"
    }
   },
   "outputs": [],
   "source": [
    "# Abre el archivo JSON\n",
    "with open('../data/processed/general.json', \"r\", encoding='utf-8') as archivo:\n",
    "    data_generalized = json.load(archivo)"
   ]
  },
  {
   "cell_type": "code",
   "execution_count": 9,
   "metadata": {
    "ExecuteTime": {
     "end_time": "2024-05-04T20:38:54.298043800Z",
     "start_time": "2024-05-04T20:38:54.231113700Z"
    }
   },
   "outputs": [],
   "source": [
    "ctx_i_g = []\n",
    "ctx_d_g= [] \n",
    "labels_g = []"
   ]
  },
  {
   "cell_type": "code",
   "execution_count": 10,
   "metadata": {
    "ExecuteTime": {
     "end_time": "2024-05-04T20:38:54.378060200Z",
     "start_time": "2024-05-04T20:38:54.299159800Z"
    }
   },
   "outputs": [],
   "source": [
    "for i in data_generalized:\n",
    "    text = i['data']['text']\n",
    "    for j in i['annotations'][0]['result']:\n",
    "        start = j['value']['start']\n",
    "        end = j['value']['end']\n",
    "        for m in j['value']['labels']:\n",
    "            if start > 0:\n",
    "                ctx_i_g.append(text[:start].strip().split()[-1])\n",
    "            else:\n",
    "                ctx_i_g.append(\"start\")\n",
    "\n",
    "            if end < len(text):\n",
    "                ctx_d_g.append(text[end:].strip().split()[0])\n",
    "            else:\n",
    "                ctx_d_g.append(\"end\")\n",
    "            labels_g.append(m)\n"
   ]
  },
  {
   "cell_type": "code",
   "execution_count": 11,
   "metadata": {
    "ExecuteTime": {
     "end_time": "2024-05-04T20:38:54.416119300Z",
     "start_time": "2024-05-04T20:38:54.378060200Z"
    }
   },
   "outputs": [
    {
     "data": {
      "text/plain": "(291, 291, 291)"
     },
     "execution_count": 11,
     "metadata": {},
     "output_type": "execute_result"
    }
   ],
   "source": [
    "len(labels_g), len(ctx_i_g), len(ctx_d_g) "
   ]
  },
  {
   "cell_type": "code",
   "execution_count": 12,
   "metadata": {
    "ExecuteTime": {
     "end_time": "2024-05-04T20:38:54.476094400Z",
     "start_time": "2024-05-04T20:38:54.414126700Z"
    }
   },
   "outputs": [],
   "source": [
    "data_csv_g = {\n",
    "    'ctx_i': ctx_i_g,\n",
    "    'ctx_d': ctx_d_g,\n",
    "    'class': labels_g\n",
    "}\n",
    "df_g = pd.DataFrame(data_csv_g)\n",
    "output_path_g = '../data/processed/'\n",
    "df_g.to_csv(output_path_g + 'ctx_general.csv', index=False)"
   ]
  },
  {
   "cell_type": "code",
   "execution_count": 13,
   "metadata": {
    "ExecuteTime": {
     "end_time": "2024-05-04T20:38:54.539938700Z",
     "start_time": "2024-05-04T20:38:54.477092600Z"
    }
   },
   "outputs": [],
   "source": [
    "# Abre el archivo JSON\n",
    "with open('../data/processed/detallado.json', \"r\", encoding='utf-8') as archivo:\n",
    "    data_detailed = json.load(archivo)"
   ]
  },
  {
   "cell_type": "code",
   "execution_count": 14,
   "metadata": {
    "ExecuteTime": {
     "end_time": "2024-05-04T20:38:54.572717Z",
     "start_time": "2024-05-04T20:38:54.540937Z"
    }
   },
   "outputs": [],
   "source": [
    "ctx_i_d = []\n",
    "ctx_d_d= [] \n",
    "labels_d = []"
   ]
  },
  {
   "cell_type": "code",
   "execution_count": 15,
   "metadata": {
    "ExecuteTime": {
     "end_time": "2024-05-04T20:38:54.607854800Z",
     "start_time": "2024-05-04T20:38:54.573712700Z"
    }
   },
   "outputs": [],
   "source": [
    "for i in data_detailed:\n",
    "    text = i['data']['text']\n",
    "    for j in i['annotations'][0]['result']:\n",
    "        start = j['value']['start']\n",
    "        end = j['value']['end']\n",
    "        for m in j['value']['labels']:\n",
    "            if start > 0:\n",
    "                ctx_i_d.append(text[:start].strip().split()[-1])\n",
    "            else:\n",
    "                ctx_i_d.append(\"start\")\n",
    "\n",
    "            if end < len(text) - 1:\n",
    "                ctx_d_d.append(text[end:].strip().split()[0])\n",
    "            else:\n",
    "                ctx_d_d.append(\"end\")\n",
    "            labels_d.append(m)"
   ]
  },
  {
   "cell_type": "code",
   "execution_count": 16,
   "metadata": {
    "ExecuteTime": {
     "end_time": "2024-05-04T20:38:54.643901200Z",
     "start_time": "2024-05-04T20:38:54.608854800Z"
    }
   },
   "outputs": [
    {
     "data": {
      "text/plain": "(425, 425, 425)"
     },
     "execution_count": 16,
     "metadata": {},
     "output_type": "execute_result"
    }
   ],
   "source": [
    "len(labels_d), len(ctx_i_d), len(ctx_d_d) "
   ]
  },
  {
   "cell_type": "code",
   "execution_count": 17,
   "metadata": {
    "ExecuteTime": {
     "end_time": "2024-05-04T20:38:54.678743Z",
     "start_time": "2024-05-04T20:38:54.642904700Z"
    }
   },
   "outputs": [],
   "source": [
    "data_csv_d = {\n",
    "    'ctx_i': ctx_i_d,\n",
    "    'ctx_d': ctx_d_d,\n",
    "    'class': labels_d\n",
    "}\n",
    "df_d = pd.DataFrame(data_csv_d)\n",
    "output_path_d = '../data/processed/'\n",
    "df_d.to_csv(output_path_d + 'ctx_detallado.csv', index=False)"
   ]
  },
  {
   "cell_type": "code",
   "execution_count": 17,
   "metadata": {
    "ExecuteTime": {
     "end_time": "2024-05-04T20:38:54.679746100Z",
     "start_time": "2024-05-04T20:38:54.678239200Z"
    }
   },
   "outputs": [],
   "source": []
  }
 ],
 "metadata": {
  "kernelspec": {
   "display_name": "Python 3",
   "language": "python",
   "name": "python3"
  },
  "language_info": {
   "codemirror_mode": {
    "name": "ipython",
    "version": 3
   },
   "file_extension": ".py",
   "mimetype": "text/x-python",
   "name": "python",
   "nbconvert_exporter": "python",
   "pygments_lexer": "ipython3",
   "version": "3.12.3"
  }
 },
 "nbformat": 4,
 "nbformat_minor": 2
}
